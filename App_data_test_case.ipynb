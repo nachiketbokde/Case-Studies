{
 "cells": [
  {
   "cell_type": "markdown",
   "id": "5a26b23a",
   "metadata": {},
   "source": [
    "# Introduction:"
   ]
  },
  {
   "cell_type": "markdown",
   "id": "1c6c082f",
   "metadata": {},
   "source": [
    "### Case study to determine, base on available data which users are less likely to buy subcription model of the app, so that the company can focus more on these users and show therm targetted ads in order to increase the conversion rate"
   ]
  },
  {
   "cell_type": "code",
   "execution_count": 2,
   "id": "17c7066e",
   "metadata": {},
   "outputs": [],
   "source": [
    "#importing libraries\n",
    "\n",
    "import pandas as pd\n",
    "from dateutil import parser\n",
    "import matplotlib.pyplot as plt\n",
    "import numpy as np\n",
    "import seaborn as sn"
   ]
  },
  {
   "cell_type": "code",
   "execution_count": 10,
   "id": "d86c84d9",
   "metadata": {},
   "outputs": [],
   "source": [
    "dataset = pd.read_csv('appdata10.csv')"
   ]
  },
  {
   "cell_type": "code",
   "execution_count": 11,
   "id": "9e7f41f6",
   "metadata": {},
   "outputs": [
    {
     "data": {
      "text/html": [
       "<div>\n",
       "<style scoped>\n",
       "    .dataframe tbody tr th:only-of-type {\n",
       "        vertical-align: middle;\n",
       "    }\n",
       "\n",
       "    .dataframe tbody tr th {\n",
       "        vertical-align: top;\n",
       "    }\n",
       "\n",
       "    .dataframe thead th {\n",
       "        text-align: right;\n",
       "    }\n",
       "</style>\n",
       "<table border=\"1\" class=\"dataframe\">\n",
       "  <thead>\n",
       "    <tr style=\"text-align: right;\">\n",
       "      <th></th>\n",
       "      <th>user</th>\n",
       "      <th>first_open</th>\n",
       "      <th>dayofweek</th>\n",
       "      <th>hour</th>\n",
       "      <th>age</th>\n",
       "      <th>screen_list</th>\n",
       "      <th>numscreens</th>\n",
       "      <th>minigame</th>\n",
       "      <th>used_premium_feature</th>\n",
       "      <th>enrolled</th>\n",
       "      <th>enrolled_date</th>\n",
       "      <th>liked</th>\n",
       "    </tr>\n",
       "  </thead>\n",
       "  <tbody>\n",
       "    <tr>\n",
       "      <th>0</th>\n",
       "      <td>235136</td>\n",
       "      <td>2012-12-27 02:14:51.273</td>\n",
       "      <td>3</td>\n",
       "      <td>02:00:00</td>\n",
       "      <td>23</td>\n",
       "      <td>idscreen,joinscreen,Cycle,product_review,ScanP...</td>\n",
       "      <td>15</td>\n",
       "      <td>0</td>\n",
       "      <td>0</td>\n",
       "      <td>0</td>\n",
       "      <td>NaN</td>\n",
       "      <td>0</td>\n",
       "    </tr>\n",
       "    <tr>\n",
       "      <th>1</th>\n",
       "      <td>333588</td>\n",
       "      <td>2012-12-02 01:16:00.905</td>\n",
       "      <td>6</td>\n",
       "      <td>01:00:00</td>\n",
       "      <td>24</td>\n",
       "      <td>joinscreen,product_review,product_review2,Scan...</td>\n",
       "      <td>13</td>\n",
       "      <td>0</td>\n",
       "      <td>0</td>\n",
       "      <td>0</td>\n",
       "      <td>NaN</td>\n",
       "      <td>0</td>\n",
       "    </tr>\n",
       "    <tr>\n",
       "      <th>2</th>\n",
       "      <td>254414</td>\n",
       "      <td>2013-03-19 19:19:09.157</td>\n",
       "      <td>1</td>\n",
       "      <td>19:00:00</td>\n",
       "      <td>23</td>\n",
       "      <td>Splash,Cycle,Loan</td>\n",
       "      <td>3</td>\n",
       "      <td>0</td>\n",
       "      <td>1</td>\n",
       "      <td>0</td>\n",
       "      <td>NaN</td>\n",
       "      <td>1</td>\n",
       "    </tr>\n",
       "    <tr>\n",
       "      <th>3</th>\n",
       "      <td>234192</td>\n",
       "      <td>2013-07-05 16:08:46.354</td>\n",
       "      <td>4</td>\n",
       "      <td>16:00:00</td>\n",
       "      <td>28</td>\n",
       "      <td>product_review,Home,product_review,Loan3,Finan...</td>\n",
       "      <td>40</td>\n",
       "      <td>0</td>\n",
       "      <td>0</td>\n",
       "      <td>1</td>\n",
       "      <td>2013-07-05 16:11:49.513</td>\n",
       "      <td>0</td>\n",
       "    </tr>\n",
       "    <tr>\n",
       "      <th>4</th>\n",
       "      <td>51549</td>\n",
       "      <td>2013-02-26 18:50:48.661</td>\n",
       "      <td>1</td>\n",
       "      <td>18:00:00</td>\n",
       "      <td>31</td>\n",
       "      <td>idscreen,joinscreen,Cycle,Credit3Container,Sca...</td>\n",
       "      <td>32</td>\n",
       "      <td>0</td>\n",
       "      <td>0</td>\n",
       "      <td>1</td>\n",
       "      <td>2013-02-26 18:56:37.841</td>\n",
       "      <td>1</td>\n",
       "    </tr>\n",
       "    <tr>\n",
       "      <th>5</th>\n",
       "      <td>56480</td>\n",
       "      <td>2013-04-03 09:58:15.752</td>\n",
       "      <td>2</td>\n",
       "      <td>09:00:00</td>\n",
       "      <td>20</td>\n",
       "      <td>idscreen,Cycle,Home,ScanPreview,VerifyPhone,Ve...</td>\n",
       "      <td>14</td>\n",
       "      <td>0</td>\n",
       "      <td>0</td>\n",
       "      <td>1</td>\n",
       "      <td>2013-04-03 09:59:03.291</td>\n",
       "      <td>0</td>\n",
       "    </tr>\n",
       "    <tr>\n",
       "      <th>6</th>\n",
       "      <td>144649</td>\n",
       "      <td>2012-12-25 02:33:18.461</td>\n",
       "      <td>1</td>\n",
       "      <td>02:00:00</td>\n",
       "      <td>35</td>\n",
       "      <td>product_review,product_review2,ScanPreview</td>\n",
       "      <td>3</td>\n",
       "      <td>0</td>\n",
       "      <td>0</td>\n",
       "      <td>0</td>\n",
       "      <td>NaN</td>\n",
       "      <td>0</td>\n",
       "    </tr>\n",
       "    <tr>\n",
       "      <th>7</th>\n",
       "      <td>249366</td>\n",
       "      <td>2012-12-11 03:07:49.875</td>\n",
       "      <td>1</td>\n",
       "      <td>03:00:00</td>\n",
       "      <td>26</td>\n",
       "      <td>Splash,Cycle,Home,Credit3Container,Credit3Dash...</td>\n",
       "      <td>41</td>\n",
       "      <td>0</td>\n",
       "      <td>1</td>\n",
       "      <td>0</td>\n",
       "      <td>NaN</td>\n",
       "      <td>0</td>\n",
       "    </tr>\n",
       "    <tr>\n",
       "      <th>8</th>\n",
       "      <td>372004</td>\n",
       "      <td>2013-03-20 14:22:01.569</td>\n",
       "      <td>2</td>\n",
       "      <td>14:00:00</td>\n",
       "      <td>29</td>\n",
       "      <td>product_review,product_review2,ScanPreview,Ver...</td>\n",
       "      <td>33</td>\n",
       "      <td>1</td>\n",
       "      <td>1</td>\n",
       "      <td>1</td>\n",
       "      <td>2013-04-27 22:24:54.542</td>\n",
       "      <td>0</td>\n",
       "    </tr>\n",
       "    <tr>\n",
       "      <th>9</th>\n",
       "      <td>338013</td>\n",
       "      <td>2013-04-26 18:22:16.013</td>\n",
       "      <td>4</td>\n",
       "      <td>18:00:00</td>\n",
       "      <td>26</td>\n",
       "      <td>Home,Loan2,product_review,product_review,produ...</td>\n",
       "      <td>19</td>\n",
       "      <td>0</td>\n",
       "      <td>0</td>\n",
       "      <td>1</td>\n",
       "      <td>2013-04-26 18:31:58.923</td>\n",
       "      <td>0</td>\n",
       "    </tr>\n",
       "  </tbody>\n",
       "</table>\n",
       "</div>"
      ],
      "text/plain": [
       "     user               first_open  dayofweek       hour  age  \\\n",
       "0  235136  2012-12-27 02:14:51.273          3   02:00:00   23   \n",
       "1  333588  2012-12-02 01:16:00.905          6   01:00:00   24   \n",
       "2  254414  2013-03-19 19:19:09.157          1   19:00:00   23   \n",
       "3  234192  2013-07-05 16:08:46.354          4   16:00:00   28   \n",
       "4   51549  2013-02-26 18:50:48.661          1   18:00:00   31   \n",
       "5   56480  2013-04-03 09:58:15.752          2   09:00:00   20   \n",
       "6  144649  2012-12-25 02:33:18.461          1   02:00:00   35   \n",
       "7  249366  2012-12-11 03:07:49.875          1   03:00:00   26   \n",
       "8  372004  2013-03-20 14:22:01.569          2   14:00:00   29   \n",
       "9  338013  2013-04-26 18:22:16.013          4   18:00:00   26   \n",
       "\n",
       "                                         screen_list  numscreens  minigame  \\\n",
       "0  idscreen,joinscreen,Cycle,product_review,ScanP...          15         0   \n",
       "1  joinscreen,product_review,product_review2,Scan...          13         0   \n",
       "2                                  Splash,Cycle,Loan           3         0   \n",
       "3  product_review,Home,product_review,Loan3,Finan...          40         0   \n",
       "4  idscreen,joinscreen,Cycle,Credit3Container,Sca...          32         0   \n",
       "5  idscreen,Cycle,Home,ScanPreview,VerifyPhone,Ve...          14         0   \n",
       "6         product_review,product_review2,ScanPreview           3         0   \n",
       "7  Splash,Cycle,Home,Credit3Container,Credit3Dash...          41         0   \n",
       "8  product_review,product_review2,ScanPreview,Ver...          33         1   \n",
       "9  Home,Loan2,product_review,product_review,produ...          19         0   \n",
       "\n",
       "   used_premium_feature  enrolled            enrolled_date  liked  \n",
       "0                     0         0                      NaN      0  \n",
       "1                     0         0                      NaN      0  \n",
       "2                     1         0                      NaN      1  \n",
       "3                     0         1  2013-07-05 16:11:49.513      0  \n",
       "4                     0         1  2013-02-26 18:56:37.841      1  \n",
       "5                     0         1  2013-04-03 09:59:03.291      0  \n",
       "6                     0         0                      NaN      0  \n",
       "7                     1         0                      NaN      0  \n",
       "8                     1         1  2013-04-27 22:24:54.542      0  \n",
       "9                     0         1  2013-04-26 18:31:58.923      0  "
      ]
     },
     "execution_count": 11,
     "metadata": {},
     "output_type": "execute_result"
    }
   ],
   "source": [
    "dataset.head(10) # Viewing the Data\n"
   ]
  },
  {
   "cell_type": "code",
   "execution_count": 12,
   "id": "aff78e07",
   "metadata": {},
   "outputs": [
    {
     "data": {
      "text/html": [
       "<div>\n",
       "<style scoped>\n",
       "    .dataframe tbody tr th:only-of-type {\n",
       "        vertical-align: middle;\n",
       "    }\n",
       "\n",
       "    .dataframe tbody tr th {\n",
       "        vertical-align: top;\n",
       "    }\n",
       "\n",
       "    .dataframe thead th {\n",
       "        text-align: right;\n",
       "    }\n",
       "</style>\n",
       "<table border=\"1\" class=\"dataframe\">\n",
       "  <thead>\n",
       "    <tr style=\"text-align: right;\">\n",
       "      <th></th>\n",
       "      <th>user</th>\n",
       "      <th>dayofweek</th>\n",
       "      <th>age</th>\n",
       "      <th>numscreens</th>\n",
       "      <th>minigame</th>\n",
       "      <th>used_premium_feature</th>\n",
       "      <th>enrolled</th>\n",
       "      <th>liked</th>\n",
       "    </tr>\n",
       "  </thead>\n",
       "  <tbody>\n",
       "    <tr>\n",
       "      <th>count</th>\n",
       "      <td>50000.000000</td>\n",
       "      <td>50000.000000</td>\n",
       "      <td>50000.00000</td>\n",
       "      <td>50000.000000</td>\n",
       "      <td>50000.000000</td>\n",
       "      <td>50000.000000</td>\n",
       "      <td>50000.000000</td>\n",
       "      <td>50000.000000</td>\n",
       "    </tr>\n",
       "    <tr>\n",
       "      <th>mean</th>\n",
       "      <td>186889.729900</td>\n",
       "      <td>3.029860</td>\n",
       "      <td>31.72436</td>\n",
       "      <td>21.095900</td>\n",
       "      <td>0.107820</td>\n",
       "      <td>0.172020</td>\n",
       "      <td>0.621480</td>\n",
       "      <td>0.165000</td>\n",
       "    </tr>\n",
       "    <tr>\n",
       "      <th>std</th>\n",
       "      <td>107768.520361</td>\n",
       "      <td>2.031997</td>\n",
       "      <td>10.80331</td>\n",
       "      <td>15.728812</td>\n",
       "      <td>0.310156</td>\n",
       "      <td>0.377402</td>\n",
       "      <td>0.485023</td>\n",
       "      <td>0.371184</td>\n",
       "    </tr>\n",
       "    <tr>\n",
       "      <th>min</th>\n",
       "      <td>13.000000</td>\n",
       "      <td>0.000000</td>\n",
       "      <td>16.00000</td>\n",
       "      <td>1.000000</td>\n",
       "      <td>0.000000</td>\n",
       "      <td>0.000000</td>\n",
       "      <td>0.000000</td>\n",
       "      <td>0.000000</td>\n",
       "    </tr>\n",
       "    <tr>\n",
       "      <th>25%</th>\n",
       "      <td>93526.750000</td>\n",
       "      <td>1.000000</td>\n",
       "      <td>24.00000</td>\n",
       "      <td>10.000000</td>\n",
       "      <td>0.000000</td>\n",
       "      <td>0.000000</td>\n",
       "      <td>0.000000</td>\n",
       "      <td>0.000000</td>\n",
       "    </tr>\n",
       "    <tr>\n",
       "      <th>50%</th>\n",
       "      <td>187193.500000</td>\n",
       "      <td>3.000000</td>\n",
       "      <td>29.00000</td>\n",
       "      <td>18.000000</td>\n",
       "      <td>0.000000</td>\n",
       "      <td>0.000000</td>\n",
       "      <td>1.000000</td>\n",
       "      <td>0.000000</td>\n",
       "    </tr>\n",
       "    <tr>\n",
       "      <th>75%</th>\n",
       "      <td>279984.250000</td>\n",
       "      <td>5.000000</td>\n",
       "      <td>37.00000</td>\n",
       "      <td>28.000000</td>\n",
       "      <td>0.000000</td>\n",
       "      <td>0.000000</td>\n",
       "      <td>1.000000</td>\n",
       "      <td>0.000000</td>\n",
       "    </tr>\n",
       "    <tr>\n",
       "      <th>max</th>\n",
       "      <td>373662.000000</td>\n",
       "      <td>6.000000</td>\n",
       "      <td>101.00000</td>\n",
       "      <td>325.000000</td>\n",
       "      <td>1.000000</td>\n",
       "      <td>1.000000</td>\n",
       "      <td>1.000000</td>\n",
       "      <td>1.000000</td>\n",
       "    </tr>\n",
       "  </tbody>\n",
       "</table>\n",
       "</div>"
      ],
      "text/plain": [
       "                user     dayofweek          age    numscreens      minigame  \\\n",
       "count   50000.000000  50000.000000  50000.00000  50000.000000  50000.000000   \n",
       "mean   186889.729900      3.029860     31.72436     21.095900      0.107820   \n",
       "std    107768.520361      2.031997     10.80331     15.728812      0.310156   \n",
       "min        13.000000      0.000000     16.00000      1.000000      0.000000   \n",
       "25%     93526.750000      1.000000     24.00000     10.000000      0.000000   \n",
       "50%    187193.500000      3.000000     29.00000     18.000000      0.000000   \n",
       "75%    279984.250000      5.000000     37.00000     28.000000      0.000000   \n",
       "max    373662.000000      6.000000    101.00000    325.000000      1.000000   \n",
       "\n",
       "       used_premium_feature      enrolled         liked  \n",
       "count          50000.000000  50000.000000  50000.000000  \n",
       "mean               0.172020      0.621480      0.165000  \n",
       "std                0.377402      0.485023      0.371184  \n",
       "min                0.000000      0.000000      0.000000  \n",
       "25%                0.000000      0.000000      0.000000  \n",
       "50%                0.000000      1.000000      0.000000  \n",
       "75%                0.000000      1.000000      0.000000  \n",
       "max                1.000000      1.000000      1.000000  "
      ]
     },
     "execution_count": 12,
     "metadata": {},
     "output_type": "execute_result"
    }
   ],
   "source": [
    "dataset.describe() # Distribution of Numerical Variables"
   ]
  },
  {
   "cell_type": "code",
   "execution_count": 13,
   "id": "173fd0f6",
   "metadata": {},
   "outputs": [],
   "source": [
    "# First set of Feature cleaning\n",
    "dataset[\"hour\"] = dataset.hour.str.slice(1, 3).astype(int)"
   ]
  },
  {
   "cell_type": "code",
   "execution_count": 14,
   "id": "00bc6ff2",
   "metadata": {},
   "outputs": [
    {
     "data": {
      "text/html": [
       "<div>\n",
       "<style scoped>\n",
       "    .dataframe tbody tr th:only-of-type {\n",
       "        vertical-align: middle;\n",
       "    }\n",
       "\n",
       "    .dataframe tbody tr th {\n",
       "        vertical-align: top;\n",
       "    }\n",
       "\n",
       "    .dataframe thead th {\n",
       "        text-align: right;\n",
       "    }\n",
       "</style>\n",
       "<table border=\"1\" class=\"dataframe\">\n",
       "  <thead>\n",
       "    <tr style=\"text-align: right;\">\n",
       "      <th></th>\n",
       "      <th>dayofweek</th>\n",
       "      <th>hour</th>\n",
       "      <th>age</th>\n",
       "      <th>numscreens</th>\n",
       "      <th>minigame</th>\n",
       "      <th>used_premium_feature</th>\n",
       "      <th>liked</th>\n",
       "    </tr>\n",
       "  </thead>\n",
       "  <tbody>\n",
       "    <tr>\n",
       "      <th>0</th>\n",
       "      <td>3</td>\n",
       "      <td>2</td>\n",
       "      <td>23</td>\n",
       "      <td>15</td>\n",
       "      <td>0</td>\n",
       "      <td>0</td>\n",
       "      <td>0</td>\n",
       "    </tr>\n",
       "    <tr>\n",
       "      <th>1</th>\n",
       "      <td>6</td>\n",
       "      <td>1</td>\n",
       "      <td>24</td>\n",
       "      <td>13</td>\n",
       "      <td>0</td>\n",
       "      <td>0</td>\n",
       "      <td>0</td>\n",
       "    </tr>\n",
       "    <tr>\n",
       "      <th>2</th>\n",
       "      <td>1</td>\n",
       "      <td>19</td>\n",
       "      <td>23</td>\n",
       "      <td>3</td>\n",
       "      <td>0</td>\n",
       "      <td>1</td>\n",
       "      <td>1</td>\n",
       "    </tr>\n",
       "    <tr>\n",
       "      <th>3</th>\n",
       "      <td>4</td>\n",
       "      <td>16</td>\n",
       "      <td>28</td>\n",
       "      <td>40</td>\n",
       "      <td>0</td>\n",
       "      <td>0</td>\n",
       "      <td>0</td>\n",
       "    </tr>\n",
       "    <tr>\n",
       "      <th>4</th>\n",
       "      <td>1</td>\n",
       "      <td>18</td>\n",
       "      <td>31</td>\n",
       "      <td>32</td>\n",
       "      <td>0</td>\n",
       "      <td>0</td>\n",
       "      <td>1</td>\n",
       "    </tr>\n",
       "  </tbody>\n",
       "</table>\n",
       "</div>"
      ],
      "text/plain": [
       "   dayofweek  hour  age  numscreens  minigame  used_premium_feature  liked\n",
       "0          3     2   23          15         0                     0      0\n",
       "1          6     1   24          13         0                     0      0\n",
       "2          1    19   23           3         0                     1      1\n",
       "3          4    16   28          40         0                     0      0\n",
       "4          1    18   31          32         0                     0      1"
      ]
     },
     "execution_count": 14,
     "metadata": {},
     "output_type": "execute_result"
    }
   ],
   "source": [
    "dataset2 = dataset.copy().drop(columns = ['user', 'screen_list', 'enrolled_date',\n",
    "                                           'first_open', 'enrolled'])\n",
    "dataset2.head()\n"
   ]
  },
  {
   "cell_type": "code",
   "execution_count": 15,
   "id": "7fa38fe3",
   "metadata": {},
   "outputs": [
    {
     "data": {
      "image/png": "[encoded data removed]",
      "text/plain": [
       "<Figure size 432x288 with 7 Axes>"
      ]
     },
     "metadata": {
      "needs_background": "light"
     },
     "output_type": "display_data"
    }
   ],
   "source": [
    "## Histograms\n",
    "plt.suptitle('Histograms of Numerical Columns', fontsize=20)\n",
    "for i in range(1, dataset2.shape[1] + 1):\n",
    "    plt.subplot(3, 3, i)\n",
    "    f = plt.gca()\n",
    "#    f.axes.get_yaxis().set_visible(False)\n",
    "    f.set_title(dataset2.columns.values[i - 1])\n",
    "\n",
    "    vals = np.size(dataset2.iloc[:, i - 1].unique())\n",
    "    \n",
    "    plt.hist(dataset2.iloc[:, i - 1], bins=vals, color='#3F5D7D')\n",
    "plt.tight_layout(rect=[0, 0.03, 1, 0.95])"
   ]
  },
  {
   "cell_type": "code",
   "execution_count": 16,
   "id": "7abde93b",
   "metadata": {},
   "outputs": [
    {
     "data": {
      "text/plain": [
       "<AxesSubplot:title={'center':'Correlation with Reposnse variable'}>"
      ]
     },
     "execution_count": 16,
     "metadata": {},
     "output_type": "execute_result"
    },
    {
     "data": {
      "image/png": "[encoded data removed]",
      "text/plain": [
       "<Figure size 1440x720 with 1 Axes>"
      ]
     },
     "metadata": {
      "needs_background": "light"
     },
     "output_type": "display_data"
    }
   ],
   "source": [
    "## Correlation with Response Variable\n",
    "dataset2.corrwith(dataset.enrolled).plot.bar(figsize=(20,10),\n",
    "                  title = 'Correlation with Reposnse variable',\n",
    "                  fontsize = 15, rot = 45,\n",
    "                  grid = True)"
   ]
  },
  {
   "cell_type": "code",
   "execution_count": 17,
   "id": "e4159b21",
   "metadata": {},
   "outputs": [],
   "source": [
    "## Correlation Matrix\n",
    "sn.set(style=\"white\", font_scale=2)"
   ]
  },
  {
   "cell_type": "code",
   "execution_count": 18,
   "id": "3bad7b68",
   "metadata": {},
   "outputs": [],
   "source": [
    "# Compute the correlation matrix\n",
    "corr = dataset2.corr()"
   ]
  },
  {
   "cell_type": "code",
   "execution_count": 20,
   "id": "4f4eba26",
   "metadata": {},
   "outputs": [],
   "source": [
    "# Generate a mask for the upper triangle\n",
    "mask = np.zeros_like(corr, dtype=bool)\n",
    "mask[np.triu_indices_from(mask)] = True"
   ]
  },
  {
   "cell_type": "code",
   "execution_count": 24,
   "id": "c4b4abcb",
   "metadata": {},
   "outputs": [
    {
     "data": {
      "text/plain": [
       "<AxesSubplot:>"
      ]
     },
     "execution_count": 24,
     "metadata": {},
     "output_type": "execute_result"
    },
    {
     "data": {
      "image/png": "[encoded data removed]",
      "text/plain": [
       "<Figure size 1296x1080 with 2 Axes>"
      ]
     },
     "metadata": {},
     "output_type": "display_data"
    }
   ],
   "source": [
    "# Set up the matplotlib figure\n",
    "f, ax = plt.subplots(figsize=(18, 15))\n",
    "f.suptitle(\"Correlation Matrix\", fontsize = 40)\n",
    "\n",
    "# Generate a custom diverging colormap\n",
    "cmap = sn.diverging_palette(220, 10, as_cmap=True)\n",
    "\n",
    "# Draw the heatmap with the mask and correct aspect ratio\n",
    "sn.heatmap(corr, mask=mask, cmap=cmap, vmax=.3, center=0,annot=True,\n",
    "            square=True, linewidths=.5, cbar_kws={\"shrink\": .5})\n"
   ]
  },
  {
   "cell_type": "code",
   "execution_count": 25,
   "id": "bf4c0264",
   "metadata": {},
   "outputs": [],
   "source": [
    "#### Feature Engineering ####"
   ]
  },
  {
   "cell_type": "code",
   "execution_count": 26,
   "id": "b2663863",
   "metadata": {},
   "outputs": [
    {
     "data": {
      "text/plain": [
       "user                     int64\n",
       "first_open              object\n",
       "dayofweek                int64\n",
       "hour                     int32\n",
       "age                      int64\n",
       "screen_list             object\n",
       "numscreens               int64\n",
       "minigame                 int64\n",
       "used_premium_feature     int64\n",
       "enrolled                 int64\n",
       "enrolled_date           object\n",
       "liked                    int64\n",
       "dtype: object"
      ]
     },
     "execution_count": 26,
     "metadata": {},
     "output_type": "execute_result"
    }
   ],
   "source": [
    "dataset.dtypes"
   ]
  },
  {
   "cell_type": "code",
   "execution_count": 27,
   "id": "2d55dd4e",
   "metadata": {},
   "outputs": [
    {
     "data": {
      "text/plain": [
       "user                             int64\n",
       "first_open              datetime64[ns]\n",
       "dayofweek                        int64\n",
       "hour                             int32\n",
       "age                              int64\n",
       "screen_list                     object\n",
       "numscreens                       int64\n",
       "minigame                         int64\n",
       "used_premium_feature             int64\n",
       "enrolled                         int64\n",
       "enrolled_date           datetime64[ns]\n",
       "liked                            int64\n",
       "dtype: object"
      ]
     },
     "execution_count": 27,
     "metadata": {},
     "output_type": "execute_result"
    }
   ],
   "source": [
    "dataset[\"first_open\"] = [parser.parse(row_date) for row_date in dataset[\"first_open\"]]\n",
    "dataset[\"enrolled_date\"] = [parser.parse(row_date) if isinstance(row_date, str) else row_date for row_date in dataset[\"enrolled_date\"]]\n",
    "dataset.dtypes"
   ]
  },
  {
   "cell_type": "code",
   "execution_count": 28,
   "id": "b4f25fe9",
   "metadata": {},
   "outputs": [
    {
     "data": {
      "image/png": "[encoded data removed]",
      "text/plain": [
       "<Figure size 432x288 with 1 Axes>"
      ]
     },
     "metadata": {},
     "output_type": "display_data"
    }
   ],
   "source": [
    "# Selecting Time For Response\n",
    "dataset[\"difference\"] = (dataset.enrolled_date-dataset.first_open).astype('timedelta64[h]')\n",
    "response_hist = plt.hist(dataset[\"difference\"].dropna(), color='#3F5D7D')\n",
    "plt.title('Distribution of Time-Since-Screen-Reached')\n",
    "plt.show()"
   ]
  },
  {
   "cell_type": "code",
   "execution_count": 29,
   "id": "590ab4ea",
   "metadata": {},
   "outputs": [
    {
     "data": {
      "image/png": "[encoded data removed]",
      "text/plain": [
       "<Figure size 432x288 with 1 Axes>"
      ]
     },
     "metadata": {},
     "output_type": "display_data"
    }
   ],
   "source": [
    "plt.hist(dataset[\"difference\"].dropna(), color='#3F5D7D', range = [0, 100])\n",
    "plt.title('Distribution of Time-Since-Screen-Reached')\n",
    "plt.show()"
   ]
  },
  {
   "cell_type": "code",
   "execution_count": 30,
   "id": "829c33fe",
   "metadata": {},
   "outputs": [],
   "source": [
    "dataset.loc[dataset.difference > 48, 'enrolled'] = 0\n",
    "dataset = dataset.drop(columns=['enrolled_date', 'difference', 'first_open'])"
   ]
  },
  {
   "cell_type": "code",
   "execution_count": 31,
   "id": "40c26345",
   "metadata": {},
   "outputs": [
    {
     "data": {
      "text/plain": [
       "array(['Loan2', 'location', 'Institutions', 'Credit3Container',\n",
       "       'VerifyPhone', 'BankVerification', 'VerifyDateOfBirth',\n",
       "       'ProfilePage', 'VerifyCountry', 'Cycle', 'idscreen',\n",
       "       'Credit3Dashboard', 'Loan3', 'CC1Category', 'Splash', 'Loan',\n",
       "       'CC1', 'RewardsContainer', 'Credit3', 'Credit1', 'EditProfile',\n",
       "       'Credit2', 'Finances', 'CC3', 'Saving9', 'Saving1', 'Alerts',\n",
       "       'Saving8', 'Saving10', 'Leaderboard', 'Saving4', 'VerifyMobile',\n",
       "       'VerifyHousing', 'RewardDetail', 'VerifyHousingAmount',\n",
       "       'ProfileMaritalStatus', 'ProfileChildren ', 'ProfileEducation',\n",
       "       'Saving7', 'ProfileEducationMajor', 'Rewards', 'AccountView',\n",
       "       'VerifyAnnualIncome', 'VerifyIncomeType', 'Saving2', 'Saving6',\n",
       "       'Saving2Amount', 'Saving5', 'ProfileJobTitle', 'Login',\n",
       "       'ProfileEmploymentLength', 'WebView', 'SecurityModal', 'Loan4',\n",
       "       'ResendToken', 'TransactionList', 'NetworkFailure', 'ListPicker'],\n",
       "      dtype=object)"
      ]
     },
     "execution_count": 31,
     "metadata": {},
     "output_type": "execute_result"
    }
   ],
   "source": [
    "## Formatting the screen_list Field\n",
    "\n",
    "# Load Top Screens\n",
    "top_screens = pd.read_csv('top_screens.csv').top_screens.values\n",
    "top_screens"
   ]
  },
  {
   "cell_type": "code",
   "execution_count": 32,
   "id": "e8c4d002",
   "metadata": {},
   "outputs": [],
   "source": [
    "# Mapping Screens to Fields\n",
    "dataset[\"screen_list\"] = dataset.screen_list.astype(str) + ','"
   ]
  },
  {
   "cell_type": "code",
   "execution_count": 33,
   "id": "4dafad5d",
   "metadata": {},
   "outputs": [],
   "source": [
    "for sc in top_screens:\n",
    "    dataset[sc] = dataset.screen_list.str.contains(sc).astype(int)\n",
    "    dataset['screen_list'] = dataset.screen_list.str.replace(sc+\",\", \"\")"
   ]
  },
  {
   "cell_type": "code",
   "execution_count": 34,
   "id": "4e441845",
   "metadata": {},
   "outputs": [],
   "source": [
    "dataset['Other'] = dataset.screen_list.str.count(\",\")\n",
    "dataset = dataset.drop(columns=['screen_list'])\n"
   ]
  },
  {
   "cell_type": "code",
   "execution_count": 35,
   "id": "f31afa77",
   "metadata": {},
   "outputs": [],
   "source": [
    "savings_screens = [\"Saving1\",\n",
    "                    \"Saving2\",\n",
    "                    \"Saving2Amount\",\n",
    "                    \"Saving4\",\n",
    "                    \"Saving5\",\n",
    "                    \"Saving6\",\n",
    "                    \"Saving7\",\n",
    "                    \"Saving8\",\n",
    "                    \"Saving9\",\n",
    "                    \"Saving10\"]\n",
    "dataset[\"SavingCount\"] = dataset[savings_screens].sum(axis=1)\n",
    "dataset = dataset.drop(columns=savings_screens)\n"
   ]
  },
  {
   "cell_type": "code",
   "execution_count": 36,
   "id": "7a3a4e07",
   "metadata": {},
   "outputs": [],
   "source": [
    "cm_screens = [\"Credit1\",\n",
    "               \"Credit2\",\n",
    "               \"Credit3\",\n",
    "               \"Credit3Container\",\n",
    "               \"Credit3Dashboard\"]\n",
    "dataset[\"CMCount\"] = dataset[cm_screens].sum(axis=1)\n",
    "dataset = dataset.drop(columns=cm_screens)"
   ]
  },
  {
   "cell_type": "code",
   "execution_count": 37,
   "id": "5b15a8be",
   "metadata": {},
   "outputs": [],
   "source": [
    "cc_screens = [\"CC1\",\n",
    "                \"CC1Category\",\n",
    "                \"CC3\"]\n",
    "dataset[\"CCCount\"] = dataset[cc_screens].sum(axis=1)\n",
    "dataset = dataset.drop(columns=cc_screens)"
   ]
  },
  {
   "cell_type": "code",
   "execution_count": 38,
   "id": "ee2d8521",
   "metadata": {},
   "outputs": [],
   "source": [
    "loan_screens = [\"Loan\",\n",
    "               \"Loan2\",\n",
    "               \"Loan3\",\n",
    "               \"Loan4\"]\n",
    "dataset[\"LoansCount\"] = dataset[loan_screens].sum(axis=1)\n",
    "dataset = dataset.drop(columns=loan_screens)"
   ]
  },
  {
   "cell_type": "code",
   "execution_count": 39,
   "id": "df4e7bd7",
   "metadata": {},
   "outputs": [],
   "source": [
    "#### Saving Results ####\n",
    "dataset.head()\n",
    "dataset.describe()\n",
    "dataset.columns\n",
    "\n",
    "dataset.to_csv('new_appdata10.csv', index = False)"
   ]
  },
  {
   "cell_type": "code",
   "execution_count": 40,
   "id": "56a6365a",
   "metadata": {},
   "outputs": [],
   "source": [
    "dataset = pd.read_csv('new_appdata10.csv')"
   ]
  },
  {
   "cell_type": "code",
   "execution_count": 41,
   "id": "6735026f",
   "metadata": {},
   "outputs": [],
   "source": [
    "# Splitting Independent and Response Variables\n",
    "response = dataset[\"enrolled\"]\n",
    "dataset = dataset.drop(columns=\"enrolled\")"
   ]
  },
  {
   "cell_type": "code",
   "execution_count": 42,
   "id": "7dd6ee19",
   "metadata": {},
   "outputs": [],
   "source": [
    "# Splitting the dataset into the Training set and Test set\n",
    "from sklearn.model_selection import train_test_split\n",
    "X_train, X_test, y_train, y_test = train_test_split(dataset, response,\n",
    "                                                    test_size = 0.2,\n",
    "                                                    random_state = 0)"
   ]
  },
  {
   "cell_type": "code",
   "execution_count": 43,
   "id": "5917b30d",
   "metadata": {},
   "outputs": [],
   "source": [
    "# Removing Identifiers\n",
    "train_identity = X_train['user']\n",
    "X_train = X_train.drop(columns = ['user'])\n",
    "test_identity = X_test['user']\n",
    "X_test = X_test.drop(columns = ['user'])"
   ]
  },
  {
   "cell_type": "code",
   "execution_count": 44,
   "id": "15af4d8b",
   "metadata": {},
   "outputs": [],
   "source": [
    "# Feature Scaling\n",
    "from sklearn.preprocessing import StandardScaler\n",
    "sc_X = StandardScaler()\n",
    "X_train2 = pd.DataFrame(sc_X.fit_transform(X_train))\n",
    "X_test2 = pd.DataFrame(sc_X.transform(X_test))\n",
    "X_train2.columns = X_train.columns.values\n",
    "X_test2.columns = X_test.columns.values\n",
    "X_train2.index = X_train.index.values\n",
    "X_test2.index = X_test.index.values\n",
    "X_train = X_train2\n",
    "X_test = X_test2"
   ]
  },
  {
   "cell_type": "code",
   "execution_count": 45,
   "id": "fe17df9d",
   "metadata": {},
   "outputs": [],
   "source": [
    "#### Model Building ####"
   ]
  },
  {
   "cell_type": "code",
   "execution_count": 47,
   "id": "f1fad95c",
   "metadata": {},
   "outputs": [
    {
     "data": {
      "text/plain": [
       "LogisticRegression(random_state=0)"
      ]
     },
     "execution_count": 47,
     "metadata": {},
     "output_type": "execute_result"
    }
   ],
   "source": [
    "# Fitting Model to the Training Set\n",
    "from sklearn.linear_model import LogisticRegression\n",
    "classifier = LogisticRegression(random_state = 0, penalty = 'l2')\n",
    "classifier.fit(X_train, y_train)"
   ]
  },
  {
   "cell_type": "code",
   "execution_count": 48,
   "id": "9ca02383",
   "metadata": {},
   "outputs": [],
   "source": [
    "# Predicting Test Set\n",
    "y_pred = classifier.predict(X_test)"
   ]
  },
  {
   "cell_type": "code",
   "execution_count": 49,
   "id": "30c6a65f",
   "metadata": {},
   "outputs": [
    {
     "data": {
      "text/plain": [
       "0.7658930373360243"
      ]
     },
     "execution_count": 49,
     "metadata": {},
     "output_type": "execute_result"
    }
   ],
   "source": [
    "# Evaluating Results\n",
    "from sklearn.metrics import confusion_matrix, accuracy_score, f1_score, precision_score, recall_score\n",
    "cm = confusion_matrix(y_test, y_pred)\n",
    "accuracy_score(y_test, y_pred)\n",
    "precision_score(y_test, y_pred) # tp / (tp + fp)\n",
    "recall_score(y_test, y_pred) # tp / (tp + fn)\n",
    "f1_score(y_test, y_pred)"
   ]
  },
  {
   "cell_type": "code",
   "execution_count": 50,
   "id": "f7a47ce4",
   "metadata": {},
   "outputs": [
    {
     "name": "stdout",
     "output_type": "stream",
     "text": [
      "Test Data Accuracy: 0.7680\n"
     ]
    },
    {
     "data": {
      "image/png": "[encoded data removed]",
      "text/plain": [
       "<Figure size 720x504 with 2 Axes>"
      ]
     },
     "metadata": {},
     "output_type": "display_data"
    }
   ],
   "source": [
    "df_cm = pd.DataFrame(cm, index = (0, 1), columns = (0, 1))\n",
    "plt.figure(figsize = (10,7))\n",
    "sn.set(font_scale=1.4)\n",
    "sn.heatmap(df_cm, annot=True, fmt='g')\n",
    "print(\"Test Data Accuracy: %0.4f\" % accuracy_score(y_test, y_pred))"
   ]
  },
  {
   "cell_type": "code",
   "execution_count": 51,
   "id": "591bbd7c",
   "metadata": {},
   "outputs": [
    {
     "name": "stdout",
     "output_type": "stream",
     "text": [
      "SVM Accuracy: 0.767 (+/- 0.009)\n"
     ]
    }
   ],
   "source": [
    "# Applying k-Fold Cross Validation\n",
    "from sklearn.model_selection import cross_val_score\n",
    "accuracies = cross_val_score(estimator = classifier, X = X_train, y = y_train, cv = 10)\n",
    "print(\"SVM Accuracy: %0.3f (+/- %0.3f)\" % (accuracies.mean(), accuracies.std() * 2))"
   ]
  },
  {
   "cell_type": "code",
   "execution_count": 52,
   "id": "a7427508",
   "metadata": {},
   "outputs": [
    {
     "data": {
      "text/html": [
       "<div>\n",
       "<style scoped>\n",
       "    .dataframe tbody tr th:only-of-type {\n",
       "        vertical-align: middle;\n",
       "    }\n",
       "\n",
       "    .dataframe tbody tr th {\n",
       "        vertical-align: top;\n",
       "    }\n",
       "\n",
       "    .dataframe thead th {\n",
       "        text-align: right;\n",
       "    }\n",
       "</style>\n",
       "<table border=\"1\" class=\"dataframe\">\n",
       "  <thead>\n",
       "    <tr style=\"text-align: right;\">\n",
       "      <th></th>\n",
       "      <th>features</th>\n",
       "      <th>coef</th>\n",
       "    </tr>\n",
       "  </thead>\n",
       "  <tbody>\n",
       "    <tr>\n",
       "      <th>0</th>\n",
       "      <td>dayofweek</td>\n",
       "      <td>0.032715</td>\n",
       "    </tr>\n",
       "    <tr>\n",
       "      <th>1</th>\n",
       "      <td>hour</td>\n",
       "      <td>-0.003747</td>\n",
       "    </tr>\n",
       "    <tr>\n",
       "      <th>2</th>\n",
       "      <td>age</td>\n",
       "      <td>-0.149793</td>\n",
       "    </tr>\n",
       "    <tr>\n",
       "      <th>3</th>\n",
       "      <td>numscreens</td>\n",
       "      <td>-0.131250</td>\n",
       "    </tr>\n",
       "    <tr>\n",
       "      <th>4</th>\n",
       "      <td>minigame</td>\n",
       "      <td>-0.026619</td>\n",
       "    </tr>\n",
       "    <tr>\n",
       "      <th>5</th>\n",
       "      <td>used_premium_feature</td>\n",
       "      <td>-0.066105</td>\n",
       "    </tr>\n",
       "    <tr>\n",
       "      <th>6</th>\n",
       "      <td>liked</td>\n",
       "      <td>0.010852</td>\n",
       "    </tr>\n",
       "    <tr>\n",
       "      <th>7</th>\n",
       "      <td>location</td>\n",
       "      <td>-0.028831</td>\n",
       "    </tr>\n",
       "    <tr>\n",
       "      <th>8</th>\n",
       "      <td>Institutions</td>\n",
       "      <td>-0.062297</td>\n",
       "    </tr>\n",
       "    <tr>\n",
       "      <th>9</th>\n",
       "      <td>VerifyPhone</td>\n",
       "      <td>0.650615</td>\n",
       "    </tr>\n",
       "    <tr>\n",
       "      <th>10</th>\n",
       "      <td>BankVerification</td>\n",
       "      <td>0.050703</td>\n",
       "    </tr>\n",
       "    <tr>\n",
       "      <th>11</th>\n",
       "      <td>VerifyDateOfBirth</td>\n",
       "      <td>0.124332</td>\n",
       "    </tr>\n",
       "    <tr>\n",
       "      <th>12</th>\n",
       "      <td>ProfilePage</td>\n",
       "      <td>-0.124287</td>\n",
       "    </tr>\n",
       "    <tr>\n",
       "      <th>13</th>\n",
       "      <td>VerifyCountry</td>\n",
       "      <td>-0.317942</td>\n",
       "    </tr>\n",
       "    <tr>\n",
       "      <th>14</th>\n",
       "      <td>Cycle</td>\n",
       "      <td>0.007410</td>\n",
       "    </tr>\n",
       "    <tr>\n",
       "      <th>15</th>\n",
       "      <td>idscreen</td>\n",
       "      <td>0.163332</td>\n",
       "    </tr>\n",
       "    <tr>\n",
       "      <th>16</th>\n",
       "      <td>Splash</td>\n",
       "      <td>0.025411</td>\n",
       "    </tr>\n",
       "    <tr>\n",
       "      <th>17</th>\n",
       "      <td>RewardsContainer</td>\n",
       "      <td>-0.007443</td>\n",
       "    </tr>\n",
       "    <tr>\n",
       "      <th>18</th>\n",
       "      <td>EditProfile</td>\n",
       "      <td>0.044831</td>\n",
       "    </tr>\n",
       "    <tr>\n",
       "      <th>19</th>\n",
       "      <td>Finances</td>\n",
       "      <td>0.020009</td>\n",
       "    </tr>\n",
       "    <tr>\n",
       "      <th>20</th>\n",
       "      <td>Alerts</td>\n",
       "      <td>-0.211657</td>\n",
       "    </tr>\n",
       "    <tr>\n",
       "      <th>21</th>\n",
       "      <td>Leaderboard</td>\n",
       "      <td>-0.006636</td>\n",
       "    </tr>\n",
       "    <tr>\n",
       "      <th>22</th>\n",
       "      <td>VerifyMobile</td>\n",
       "      <td>0.309732</td>\n",
       "    </tr>\n",
       "    <tr>\n",
       "      <th>23</th>\n",
       "      <td>VerifyHousing</td>\n",
       "      <td>0.060813</td>\n",
       "    </tr>\n",
       "    <tr>\n",
       "      <th>24</th>\n",
       "      <td>RewardDetail</td>\n",
       "      <td>-0.002964</td>\n",
       "    </tr>\n",
       "    <tr>\n",
       "      <th>25</th>\n",
       "      <td>VerifyHousingAmount</td>\n",
       "      <td>0.037111</td>\n",
       "    </tr>\n",
       "    <tr>\n",
       "      <th>26</th>\n",
       "      <td>ProfileMaritalStatus</td>\n",
       "      <td>-0.062798</td>\n",
       "    </tr>\n",
       "    <tr>\n",
       "      <th>27</th>\n",
       "      <td>ProfileChildren</td>\n",
       "      <td>0.000000</td>\n",
       "    </tr>\n",
       "    <tr>\n",
       "      <th>28</th>\n",
       "      <td>ProfileEducation</td>\n",
       "      <td>0.000739</td>\n",
       "    </tr>\n",
       "    <tr>\n",
       "      <th>29</th>\n",
       "      <td>ProfileEducationMajor</td>\n",
       "      <td>-0.025862</td>\n",
       "    </tr>\n",
       "    <tr>\n",
       "      <th>30</th>\n",
       "      <td>Rewards</td>\n",
       "      <td>0.047809</td>\n",
       "    </tr>\n",
       "    <tr>\n",
       "      <th>31</th>\n",
       "      <td>AccountView</td>\n",
       "      <td>-0.050004</td>\n",
       "    </tr>\n",
       "    <tr>\n",
       "      <th>32</th>\n",
       "      <td>VerifyAnnualIncome</td>\n",
       "      <td>0.088196</td>\n",
       "    </tr>\n",
       "    <tr>\n",
       "      <th>33</th>\n",
       "      <td>VerifyIncomeType</td>\n",
       "      <td>-0.074005</td>\n",
       "    </tr>\n",
       "    <tr>\n",
       "      <th>34</th>\n",
       "      <td>ProfileJobTitle</td>\n",
       "      <td>0.010673</td>\n",
       "    </tr>\n",
       "    <tr>\n",
       "      <th>35</th>\n",
       "      <td>Login</td>\n",
       "      <td>-0.103769</td>\n",
       "    </tr>\n",
       "    <tr>\n",
       "      <th>36</th>\n",
       "      <td>ProfileEmploymentLength</td>\n",
       "      <td>-0.055184</td>\n",
       "    </tr>\n",
       "    <tr>\n",
       "      <th>37</th>\n",
       "      <td>WebView</td>\n",
       "      <td>-0.067483</td>\n",
       "    </tr>\n",
       "    <tr>\n",
       "      <th>38</th>\n",
       "      <td>SecurityModal</td>\n",
       "      <td>0.012465</td>\n",
       "    </tr>\n",
       "    <tr>\n",
       "      <th>39</th>\n",
       "      <td>ResendToken</td>\n",
       "      <td>-0.067666</td>\n",
       "    </tr>\n",
       "    <tr>\n",
       "      <th>40</th>\n",
       "      <td>TransactionList</td>\n",
       "      <td>-0.048825</td>\n",
       "    </tr>\n",
       "    <tr>\n",
       "      <th>41</th>\n",
       "      <td>NetworkFailure</td>\n",
       "      <td>-0.006561</td>\n",
       "    </tr>\n",
       "    <tr>\n",
       "      <th>42</th>\n",
       "      <td>ListPicker</td>\n",
       "      <td>-0.033557</td>\n",
       "    </tr>\n",
       "    <tr>\n",
       "      <th>43</th>\n",
       "      <td>Other</td>\n",
       "      <td>0.953046</td>\n",
       "    </tr>\n",
       "    <tr>\n",
       "      <th>44</th>\n",
       "      <td>SavingCount</td>\n",
       "      <td>0.001006</td>\n",
       "    </tr>\n",
       "    <tr>\n",
       "      <th>45</th>\n",
       "      <td>CMCount</td>\n",
       "      <td>0.576488</td>\n",
       "    </tr>\n",
       "    <tr>\n",
       "      <th>46</th>\n",
       "      <td>CCCount</td>\n",
       "      <td>0.029827</td>\n",
       "    </tr>\n",
       "    <tr>\n",
       "      <th>47</th>\n",
       "      <td>LoansCount</td>\n",
       "      <td>-0.490069</td>\n",
       "    </tr>\n",
       "  </tbody>\n",
       "</table>\n",
       "</div>"
      ],
      "text/plain": [
       "                   features      coef\n",
       "0                 dayofweek  0.032715\n",
       "1                      hour -0.003747\n",
       "2                       age -0.149793\n",
       "3                numscreens -0.131250\n",
       "4                  minigame -0.026619\n",
       "5      used_premium_feature -0.066105\n",
       "6                     liked  0.010852\n",
       "7                  location -0.028831\n",
       "8              Institutions -0.062297\n",
       "9               VerifyPhone  0.650615\n",
       "10         BankVerification  0.050703\n",
       "11        VerifyDateOfBirth  0.124332\n",
       "12              ProfilePage -0.124287\n",
       "13            VerifyCountry -0.317942\n",
       "14                    Cycle  0.007410\n",
       "15                 idscreen  0.163332\n",
       "16                   Splash  0.025411\n",
       "17         RewardsContainer -0.007443\n",
       "18              EditProfile  0.044831\n",
       "19                 Finances  0.020009\n",
       "20                   Alerts -0.211657\n",
       "21              Leaderboard -0.006636\n",
       "22             VerifyMobile  0.309732\n",
       "23            VerifyHousing  0.060813\n",
       "24             RewardDetail -0.002964\n",
       "25      VerifyHousingAmount  0.037111\n",
       "26     ProfileMaritalStatus -0.062798\n",
       "27         ProfileChildren   0.000000\n",
       "28         ProfileEducation  0.000739\n",
       "29    ProfileEducationMajor -0.025862\n",
       "30                  Rewards  0.047809\n",
       "31              AccountView -0.050004\n",
       "32       VerifyAnnualIncome  0.088196\n",
       "33         VerifyIncomeType -0.074005\n",
       "34          ProfileJobTitle  0.010673\n",
       "35                    Login -0.103769\n",
       "36  ProfileEmploymentLength -0.055184\n",
       "37                  WebView -0.067483\n",
       "38            SecurityModal  0.012465\n",
       "39              ResendToken -0.067666\n",
       "40          TransactionList -0.048825\n",
       "41           NetworkFailure -0.006561\n",
       "42               ListPicker -0.033557\n",
       "43                    Other  0.953046\n",
       "44              SavingCount  0.001006\n",
       "45                  CMCount  0.576488\n",
       "46                  CCCount  0.029827\n",
       "47               LoansCount -0.490069"
      ]
     },
     "execution_count": 52,
     "metadata": {},
     "output_type": "execute_result"
    }
   ],
   "source": [
    "# Analyzing Coefficients\n",
    "pd.concat([pd.DataFrame(dataset.drop(columns = 'user').columns, columns = [\"features\"]),\n",
    "           pd.DataFrame(np.transpose(classifier.coef_), columns = [\"coef\"])\n",
    "           ],axis = 1)"
   ]
  },
  {
   "cell_type": "code",
   "execution_count": 53,
   "id": "0247abf5",
   "metadata": {},
   "outputs": [],
   "source": [
    "#### Model Tuning ####\n",
    "\n",
    "## Grid Search (Round 1)\n",
    "from sklearn.model_selection import GridSearchCV\n",
    "\n",
    "# Select Regularization Method\n",
    "penalty = ['l1', 'l2']\n",
    "\n",
    "# Create regularization hyperparameter space\n",
    "C = [0.001, 0.01, 0.1, 1, 10, 100, 1000]\n",
    "\n",
    "# Combine Parameters\n",
    "parameters = dict(C=C, penalty=penalty)\n",
    "\n",
    "grid_search = GridSearchCV(estimator = classifier,\n",
    "                           param_grid = parameters,\n",
    "                           scoring = \"accuracy\",\n",
    "                           cv = 10,\n",
    "                           n_jobs = -1)"
   ]
  },
  {
   "cell_type": "code",
   "execution_count": 55,
   "id": "a1a49b1b",
   "metadata": {},
   "outputs": [],
   "source": [
    "import time"
   ]
  },
  {
   "cell_type": "code",
   "execution_count": 56,
   "id": "cc81ad61",
   "metadata": {},
   "outputs": [
    {
     "name": "stderr",
     "output_type": "stream",
     "text": [
      "C:\\Users\\nachi\\anaconda3\\New folder\\lib\\site-packages\\sklearn\\model_selection\\_search.py:922: UserWarning: One or more of the test scores are non-finite: [     nan 0.765         nan 0.767325      nan 0.7671        nan 0.767175\n",
      "      nan 0.76715       nan 0.76715       nan 0.76715 ]\n",
      "  warnings.warn(\n"
     ]
    },
    {
     "name": "stdout",
     "output_type": "stream",
     "text": [
      "Took 10.68 seconds\n"
     ]
    }
   ],
   "source": [
    "t0 = time.time()\n",
    "grid_search = grid_search.fit(X_train, y_train)\n",
    "t1 = time.time()\n",
    "print(\"Took %0.2f seconds\" % (t1 - t0))"
   ]
  },
  {
   "cell_type": "code",
   "execution_count": 57,
   "id": "763088d0",
   "metadata": {},
   "outputs": [
    {
     "data": {
      "text/plain": [
       "(0.7673249999999999, {'C': 0.01, 'penalty': 'l2'})"
      ]
     },
     "execution_count": 57,
     "metadata": {},
     "output_type": "execute_result"
    }
   ],
   "source": [
    "rf_best_accuracy = grid_search.best_score_\n",
    "rf_best_parameters = grid_search.best_params_\n",
    "rf_best_accuracy, rf_best_parameters"
   ]
  },
  {
   "cell_type": "code",
   "execution_count": 58,
   "id": "7cb8cb47",
   "metadata": {},
   "outputs": [
    {
     "name": "stderr",
     "output_type": "stream",
     "text": [
      "C:\\Users\\nachi\\anaconda3\\New folder\\lib\\site-packages\\sklearn\\model_selection\\_search.py:922: UserWarning: One or more of the test scores are non-finite: [     nan 0.7671        nan 0.767225      nan 0.767175      nan 0.767175\n",
      "      nan 0.767175      nan 0.767175]\n",
      "  warnings.warn(\n"
     ]
    },
    {
     "name": "stdout",
     "output_type": "stream",
     "text": [
      "Took 9.86 seconds\n"
     ]
    }
   ],
   "source": [
    "## Grid Search (Round 2)\n",
    "\n",
    "# Select Regularization Method\n",
    "penalty = ['l1', 'l2']\n",
    "\n",
    "# Create regularization hyperparameter space\n",
    "C = [0.1, 0.5, 0.9, 1, 2, 5]\n",
    "\n",
    "# Combine Parameters\n",
    "parameters = dict(C=C, penalty=penalty)\n",
    "\n",
    "grid_search = GridSearchCV(estimator = classifier,\n",
    "                           param_grid = parameters,\n",
    "                           scoring = \"accuracy\",\n",
    "                           cv = 10,\n",
    "                           n_jobs = -1)\n",
    "t0 = time.time()\n",
    "grid_search = grid_search.fit(X_train, y_train)\n",
    "t1 = time.time()\n",
    "print(\"Took %0.2f seconds\" % (t1 - t0))"
   ]
  },
  {
   "cell_type": "code",
   "execution_count": 59,
   "id": "8a93548b",
   "metadata": {},
   "outputs": [
    {
     "data": {
      "text/plain": [
       "0.767225"
      ]
     },
     "execution_count": 59,
     "metadata": {},
     "output_type": "execute_result"
    }
   ],
   "source": [
    "rf_best_accuracy = grid_search.best_score_\n",
    "rf_best_parameters = grid_search.best_params_\n",
    "rf_best_accuracy, rf_best_parameters\n",
    "grid_search.best_score_"
   ]
  },
  {
   "cell_type": "code",
   "execution_count": 60,
   "id": "31847684",
   "metadata": {},
   "outputs": [],
   "source": [
    "# Formatting Final Results\n",
    "final_results = pd.concat([y_test, test_identity], axis = 1).dropna()\n",
    "final_results['predicted_reach'] = y_pred\n",
    "final_results = final_results[['user', 'enrolled', 'predicted_reach']].reset_index(drop=True)"
   ]
  },
  {
   "cell_type": "code",
   "execution_count": 61,
   "id": "0074494b",
   "metadata": {},
   "outputs": [
    {
     "data": {
      "text/html": [
       "<div>\n",
       "<style scoped>\n",
       "    .dataframe tbody tr th:only-of-type {\n",
       "        vertical-align: middle;\n",
       "    }\n",
       "\n",
       "    .dataframe tbody tr th {\n",
       "        vertical-align: top;\n",
       "    }\n",
       "\n",
       "    .dataframe thead th {\n",
       "        text-align: right;\n",
       "    }\n",
       "</style>\n",
       "<table border=\"1\" class=\"dataframe\">\n",
       "  <thead>\n",
       "    <tr style=\"text-align: right;\">\n",
       "      <th></th>\n",
       "      <th>user</th>\n",
       "      <th>enrolled</th>\n",
       "      <th>predicted_reach</th>\n",
       "    </tr>\n",
       "  </thead>\n",
       "  <tbody>\n",
       "    <tr>\n",
       "      <th>0</th>\n",
       "      <td>239786</td>\n",
       "      <td>1</td>\n",
       "      <td>1</td>\n",
       "    </tr>\n",
       "    <tr>\n",
       "      <th>1</th>\n",
       "      <td>279644</td>\n",
       "      <td>1</td>\n",
       "      <td>1</td>\n",
       "    </tr>\n",
       "    <tr>\n",
       "      <th>2</th>\n",
       "      <td>98290</td>\n",
       "      <td>0</td>\n",
       "      <td>0</td>\n",
       "    </tr>\n",
       "    <tr>\n",
       "      <th>3</th>\n",
       "      <td>170150</td>\n",
       "      <td>1</td>\n",
       "      <td>1</td>\n",
       "    </tr>\n",
       "    <tr>\n",
       "      <th>4</th>\n",
       "      <td>237568</td>\n",
       "      <td>1</td>\n",
       "      <td>1</td>\n",
       "    </tr>\n",
       "    <tr>\n",
       "      <th>...</th>\n",
       "      <td>...</td>\n",
       "      <td>...</td>\n",
       "      <td>...</td>\n",
       "    </tr>\n",
       "    <tr>\n",
       "      <th>9995</th>\n",
       "      <td>143036</td>\n",
       "      <td>1</td>\n",
       "      <td>0</td>\n",
       "    </tr>\n",
       "    <tr>\n",
       "      <th>9996</th>\n",
       "      <td>91158</td>\n",
       "      <td>1</td>\n",
       "      <td>1</td>\n",
       "    </tr>\n",
       "    <tr>\n",
       "      <th>9997</th>\n",
       "      <td>248318</td>\n",
       "      <td>0</td>\n",
       "      <td>0</td>\n",
       "    </tr>\n",
       "    <tr>\n",
       "      <th>9998</th>\n",
       "      <td>142418</td>\n",
       "      <td>1</td>\n",
       "      <td>1</td>\n",
       "    </tr>\n",
       "    <tr>\n",
       "      <th>9999</th>\n",
       "      <td>279355</td>\n",
       "      <td>1</td>\n",
       "      <td>1</td>\n",
       "    </tr>\n",
       "  </tbody>\n",
       "</table>\n",
       "<p>10000 rows × 3 columns</p>\n",
       "</div>"
      ],
      "text/plain": [
       "        user  enrolled  predicted_reach\n",
       "0     239786         1                1\n",
       "1     279644         1                1\n",
       "2      98290         0                0\n",
       "3     170150         1                1\n",
       "4     237568         1                1\n",
       "...      ...       ...              ...\n",
       "9995  143036         1                0\n",
       "9996   91158         1                1\n",
       "9997  248318         0                0\n",
       "9998  142418         1                1\n",
       "9999  279355         1                1\n",
       "\n",
       "[10000 rows x 3 columns]"
      ]
     },
     "execution_count": 61,
     "metadata": {},
     "output_type": "execute_result"
    }
   ],
   "source": [
    "final_results"
   ]
  },
  {
   "cell_type": "code",
   "execution_count": null,
   "id": "e77c3b51",
   "metadata": {},
   "outputs": [],
   "source": []
  }
 ],
 "metadata": {
  "kernelspec": {
   "display_name": "Python 3 (ipykernel)",
   "language": "python",
   "name": "python3"
  },
  "language_info": {
   "codemirror_mode": {
    "name": "ipython",
    "version": 3
   },
   "file_extension": ".py",
   "mimetype": "text/x-python",
   "name": "python",
   "nbconvert_exporter": "python",
   "pygments_lexer": "ipython3",
   "version": "3.9.7"
  }
 },
 "nbformat": 4,
 "nbformat_minor": 5
}
